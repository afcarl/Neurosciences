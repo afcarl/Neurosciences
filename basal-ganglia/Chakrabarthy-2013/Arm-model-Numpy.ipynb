{
 "metadata": {
  "name": ""
 },
 "nbformat": 3,
 "nbformat_minor": 0,
 "worksheets": [
  {
   "cells": [
    {
     "cell_type": "markdown",
     "metadata": {},
     "source": [
      "Distributed under the (new) BSD License.\n",
      "Copyright (c) 2014, Nicolas P. Rougier\n",
      "\n",
      "Contributors: Nicolas P. Rougier (Nicolas.Rougier@inria.fr),\n",
      "              Meropi Topalidou (Meropi.Topalidou@inria.fr)"
     ]
    },
    {
     "cell_type": "markdown",
     "metadata": {},
     "source": [
      "### Packages import"
     ]
    },
    {
     "cell_type": "code",
     "collapsed": false,
     "input": [
      "\n",
      "from dana import *\n",
      "import matplotlib.pyplot as plt\n",
      "%pylab --no-import-all"
     ],
     "language": "python",
     "metadata": {},
     "outputs": [
      {
       "output_type": "stream",
       "stream": "stdout",
       "text": [
        "Using matplotlib backend: MacOSX\n",
        "Populating the interactive namespace from numpy and matplotlib\n"
       ]
      }
     ],
     "prompt_number": 239
    },
    {
     "cell_type": "markdown",
     "metadata": {},
     "source": [
      "### Simulation parameters"
     ]
    },
    {
     "cell_type": "code",
     "collapsed": false,
     "input": [
      "# Population size\n",
      "n = 4\n",
      "\n",
      "# Simulation duration\n",
      "epochs = 20\n",
      "\n",
      "# Default trial duration\n",
      "duration = 100.0*millisecond\n",
      "\n",
      "# Default Time resolution\n",
      "dt = 1.0*millisecond\n",
      "\n",
      "# Initialization of the random generator (reproductibility !)\n",
      "np.random.seed(1)\n"
     ],
     "language": "python",
     "metadata": {},
     "outputs": [],
     "prompt_number": 240
    },
    {
     "cell_type": "code",
     "collapsed": false,
     "input": [
      "X_cp = np.zeros((n,1))\n",
      "A = 2\n",
      "R = 3\n",
      "R_total = 0.3\n",
      "K = 4 #map parameter K controls the transitions between fixed-point ( 0 \u2264 K < 3 ), periodic (for ( 3 \u2264 K < 3.57 (approx)), and chaotic ( 3.57 \u2264 K \u2264 4 ) behaviors of the logistic map \n",
      "Rsmall = 0.003 #small positive quantity to determine the reward\n",
      "#Learning rate of MC\n",
      "n_MC = 0.2\n",
      "b = np.random.normal(0,1,n)\n",
      "alpha = 0.1 #np.exp(-E) Since E decreases with training, the contribution of MC, represented by \u03b1, increases and the contribution of BG, denoted by \u03b2, decreases, with training.Since E decreases with training, the contribution of MC, represented by \u03b1, increases and the contribution of BG, denoted by \u03b2, decreases, with training.\n",
      "beta = 1 - alpha\n",
      "gamma = 1\n",
      "sigma = 0.03 #Standard deviation of the Gaussian used in reward calculation\n",
      "B = 0.04\n",
      "DA_hi = alpha * beta\n",
      "DA_lo = -alpha * beta"
     ],
     "language": "python",
     "metadata": {},
     "outputs": [],
     "prompt_number": 241
    },
    {
     "cell_type": "markdown",
     "metadata": {},
     "source": [
      "### Weights' initialization"
     ]
    },
    {
     "cell_type": "code",
     "collapsed": false,
     "input": [
      "Wmin, Wmax = -0.5, 0.5    \n",
      "W = np.ones(n)\n",
      "N = np.random.normal(0.0, 0.005, W.shape)\n",
      "N = np.minimum(np.maximum(N, 0.0),1.0)\n",
      "W = W*(Wmin + (Wmax - Wmin)*N)"
     ],
     "language": "python",
     "metadata": {},
     "outputs": [],
     "prompt_number": 242
    },
    {
     "cell_type": "markdown",
     "metadata": {},
     "source": [
      "### Arm's angles at the four targets"
     ]
    },
    {
     "cell_type": "raw",
     "metadata": {},
     "source": [
      "In order to know which angles are for each target, arm's equation has only the Motor, that is just the position of the desire target."
     ]
    },
    {
     "cell_type": "code",
     "collapsed": false,
     "input": [
      "Arm_Tar = np.zeros((n,4)) \n",
      "theta1_Tar = np.zeros(4)\n",
      "theta2_Tar = np.zeros(4)\n",
      "for j in range(4):\n",
      "    Target = np.zeros(n)\n",
      "    Motor = np.zeros(n)\n",
      "    Target[j] = 2\n",
      "    Motor = np.tanh (W * Target + b)\n",
      "    Arm_Tar[j] = alpha * Motor \n",
      "    theta1_Tar[j] = np.pi * (Arm_Tar[j,0] - Arm_Tar[j,1])\n",
      "    theta2_Tar[j] = np.pi * (Arm_Tar[j,2] - Arm_Tar[j,3])\n",
      "    \n",
      "#print \" Arm_Tar = \\n\", Arm_Tar\n",
      "#print \"theta1_Tar = \", theta1_Tar\n",
      "#print \"theta2_Tar = \", theta2_Tar"
     ],
     "language": "python",
     "metadata": {},
     "outputs": [],
     "prompt_number": 243
    },
    {
     "cell_type": "raw",
     "metadata": {},
     "source": [
      "Check if with the help of Basal Ganglia the arm reaches the desire target."
     ]
    },
    {
     "cell_type": "code",
     "collapsed": false,
     "input": [
      "Reached_Target = np.zeros(4)\n",
      "\n",
      "\n",
      "# one loop for one target\n",
      "for j in range(4): \n",
      "    Target = np.zeros(n)\n",
      "    Arm = np.zeros(n) \n",
      "    Motor = np.zeros(n)\n",
      "    BG = np.zeros(n)\n",
      "    Target[j] = 1\n",
      "    x = np.random.normal(0.0, 0.005)\n",
      "    D_BG = 0.0\n",
      "    V_old = 0.0\n",
      "    \n",
      "    \n",
      "    # 100 loops for the reaching movement\n",
      "    for i in range(100): \n",
      "        d = np.linalg.norm(Arm - Target);\n",
      "        x = K * x * (1 - x);\n",
      "        phi = B * x;\n",
      "        r = (A) if (d < Rsmall) else (0);\n",
      "        V = (A *(1 - d**2/R**2)) if (d < R) else (0);\n",
      "        delta = r + gamma*V - V_old;\n",
      "        V_old = V\n",
      "        D_BG = D_BG if delta > DA_hi else phi if ((delta > DA_lo) and (delta <= DA_hi)) else (-D_BG);\n",
      "        BG = BG + D_BG\n",
      "        Motor = np.tanh(W * Target + b)\n",
      "        Arm = alpha * Motor + beta * BG\n",
      "    #print \" Arm = \\n\", Arm\n",
      "    \n",
      "    theta1 = np.pi * (Arm[0] - Arm[1])\n",
      "    theta2 = np.pi * (Arm[2] - Arm[3])\n",
      "    Reached_Target[j] = np.abs(theta1_Tar[j] - theta1) < 0.1 and np.abs(theta2_Tar[j] - theta2) < 0.1\n",
      "\n",
      "    \n",
      "#If it is 1, it means that the arm reached the target\n",
      "print Reached_Target"
     ],
     "language": "python",
     "metadata": {},
     "outputs": [
      {
       "output_type": "stream",
       "stream": "stdout",
       "text": [
        "[ 1.  1.  1.  1.]\n"
       ]
      }
     ],
     "prompt_number": 244
    }
   ],
   "metadata": {}
  }
 ]
}